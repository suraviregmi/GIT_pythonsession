{
 "cells": [
  {
   "cell_type": "markdown",
   "metadata": {},
   "source": [
    "# Database\n",
    "RDMS(Relationnal database Manageament system)"
   ]
  },
  {
   "cell_type": "markdown",
   "metadata": {},
   "source": [
    "**open source**\n",
    "- MySQL(web and php)\n",
    "- PostgreSQL(entreprise level)\n",
    "- SQLITE(android app/ desktop app)\n",
    "\n",
    "**Proprietary**\n",
    "- MSSQL\n",
    "- Oracle"
   ]
  },
  {
   "cell_type": "code",
   "execution_count": 12,
   "metadata": {
    "collapsed": true
   },
   "outputs": [],
   "source": [
    "import sqlite3\n",
    "#driver is being imported\n",
    "#psycopg2 for protsgeSQl\n",
    "#pymysql for mySQL"
   ]
  },
  {
   "cell_type": "code",
   "execution_count": 13,
   "metadata": {
    "collapsed": true
   },
   "outputs": [],
   "source": [
    "conn= sqlite3.connect('example.sqlite3')\n",
    "#if the give nname of file exits it load s the file else it creates the file"
   ]
  },
  {
   "cell_type": "code",
   "execution_count": 14,
   "metadata": {
    "collapsed": true
   },
   "outputs": [],
   "source": [
    "cur= conn.cursor()\n",
    "#like pointer"
   ]
  },
  {
   "cell_type": "code",
   "execution_count": 15,
   "metadata": {
    "collapsed": false
   },
   "outputs": [
    {
     "ename": "OperationalError",
     "evalue": "table countries already exists",
     "output_type": "error",
     "traceback": [
      "\u001b[1;31m---------------------------------------------------------------------------\u001b[0m",
      "\u001b[1;31mOperationalError\u001b[0m                          Traceback (most recent call last)",
      "\u001b[1;32m<ipython-input-15-4823daa2362e>\u001b[0m in \u001b[0;36m<module>\u001b[1;34m()\u001b[0m\n\u001b[1;32m----> 1\u001b[1;33m \u001b[0mcur\u001b[0m\u001b[1;33m.\u001b[0m\u001b[0mexecute\u001b[0m\u001b[1;33m(\u001b[0m\u001b[1;34m'CREATE TABLE countries(id integer, name text,iso3 text)'\u001b[0m\u001b[1;33m)\u001b[0m\u001b[1;33m\u001b[0m\u001b[0m\n\u001b[0m\u001b[0;32m      2\u001b[0m \u001b[1;31m#creates a table with columns id name and iso3\u001b[0m\u001b[1;33m\u001b[0m\u001b[1;33m\u001b[0m\u001b[0m\n",
      "\u001b[1;31mOperationalError\u001b[0m: table countries already exists"
     ]
    }
   ],
   "source": [
    "cur.execute('CREATE TABLE countries(id integer, name text,iso3 text)')\n",
    "#creates a table with columns id name and iso3"
   ]
  },
  {
   "cell_type": "code",
   "execution_count": 16,
   "metadata": {
    "collapsed": false
   },
   "outputs": [
    {
     "data": {
      "text/plain": [
       "<sqlite3.Cursor at 0x277e779d0a0>"
      ]
     },
     "execution_count": 16,
     "metadata": {},
     "output_type": "execute_result"
    }
   ],
   "source": [
    "cur.execute('SELECT * FROM countries')"
   ]
  },
  {
   "cell_type": "code",
   "execution_count": 10,
   "metadata": {
    "collapsed": false
   },
   "outputs": [
    {
     "data": {
      "text/plain": [
       "[]"
      ]
     },
     "execution_count": 10,
     "metadata": {},
     "output_type": "execute_result"
    }
   ],
   "source": [
    "cur.fetchall()\n",
    "#data not entered in our table"
   ]
  },
  {
   "cell_type": "code",
   "execution_count": 19,
   "metadata": {
    "collapsed": false
   },
   "outputs": [
    {
     "data": {
      "text/plain": [
       "<sqlite3.Cursor at 0x277e779d0a0>"
      ]
     },
     "execution_count": 19,
     "metadata": {},
     "output_type": "execute_result"
    }
   ],
   "source": [
    "cur.execute('INSERT INTO countries(id,name,iso3)VALUES(1,\"Nepal\",\"NEP\")')"
   ]
  },
  {
   "cell_type": "code",
   "execution_count": 20,
   "metadata": {
    "collapsed": false
   },
   "outputs": [
    {
     "data": {
      "text/plain": [
       "<sqlite3.Cursor at 0x277e779d0a0>"
      ]
     },
     "execution_count": 20,
     "metadata": {},
     "output_type": "execute_result"
    }
   ],
   "source": [
    "cur.execute('SELECT * FROM countries')"
   ]
  },
  {
   "cell_type": "code",
   "execution_count": 21,
   "metadata": {
    "collapsed": false
   },
   "outputs": [
    {
     "data": {
      "text/plain": [
       "[(1, 'Nepal', 'NEP')]"
      ]
     },
     "execution_count": 21,
     "metadata": {},
     "output_type": "execute_result"
    }
   ],
   "source": [
    "cur.fetchall()"
   ]
  },
  {
   "cell_type": "code",
   "execution_count": 22,
   "metadata": {
    "collapsed": false
   },
   "outputs": [
    {
     "data": {
      "text/plain": [
       "<sqlite3.Cursor at 0x277e779d0a0>"
      ]
     },
     "execution_count": 22,
     "metadata": {},
     "output_type": "execute_result"
    }
   ],
   "source": [
    "sql='''INSERT INTO countries (id,name,iso3) VALUES (?,?,?)'''\n",
    "cur.executemany(sql,[(2,'India','INA'),\n",
    "                     (3,'Bhutan','BHU'),\n",
    "                     (4,'Afghanistan','AFG')])"
   ]
  },
  {
   "cell_type": "code",
   "execution_count": 23,
   "metadata": {
    "collapsed": false
   },
   "outputs": [
    {
     "data": {
      "text/plain": [
       "<sqlite3.Cursor at 0x277e779d0a0>"
      ]
     },
     "execution_count": 23,
     "metadata": {},
     "output_type": "execute_result"
    }
   ],
   "source": [
    "cur.execute('SELECT * FROM countries')"
   ]
  },
  {
   "cell_type": "code",
   "execution_count": 24,
   "metadata": {
    "collapsed": false
   },
   "outputs": [
    {
     "data": {
      "text/plain": [
       "[(1, 'Nepal', 'NEP'),\n",
       " (2, 'India', 'INA'),\n",
       " (3, 'Bhutan', 'BHU'),\n",
       " (4, 'Afghanistan', 'AFG')]"
      ]
     },
     "execution_count": 24,
     "metadata": {},
     "output_type": "execute_result"
    }
   ],
   "source": [
    "cur.fetchall()"
   ]
  },
  {
   "cell_type": "code",
   "execution_count": 25,
   "metadata": {
    "collapsed": false
   },
   "outputs": [
    {
     "data": {
      "text/plain": [
       "<sqlite3.Cursor at 0x277e779d0a0>"
      ]
     },
     "execution_count": 25,
     "metadata": {},
     "output_type": "execute_result"
    }
   ],
   "source": [
    "sql='''INSERT INTO countries (id,name,iso3) VALUES (4,'Pakistan','PAK')'''\n",
    "cur.execute(sql)"
   ]
  },
  {
   "cell_type": "code",
   "execution_count": 26,
   "metadata": {
    "collapsed": false
   },
   "outputs": [
    {
     "data": {
      "text/plain": [
       "[(1, 'Nepal', 'NEP'),\n",
       " (2, 'India', 'INA'),\n",
       " (3, 'Bhutan', 'BHU'),\n",
       " (4, 'Afghanistan', 'AFG'),\n",
       " (4, 'Pakistan', 'PAK')]"
      ]
     },
     "execution_count": 26,
     "metadata": {},
     "output_type": "execute_result"
    }
   ],
   "source": [
    "cur.execute('SELECT * FROM countries')\n",
    "cur.fetchall()"
   ]
  },
  {
   "cell_type": "code",
   "execution_count": 28,
   "metadata": {
    "collapsed": false
   },
   "outputs": [
    {
     "data": {
      "text/plain": [
       "<sqlite3.Cursor at 0x277e779d0a0>"
      ]
     },
     "execution_count": 28,
     "metadata": {},
     "output_type": "execute_result"
    }
   ],
   "source": [
    "sql='UPDATE countries SET id=5 WHERE iso3= \"PAK\"'\n",
    "cur.execute(sql)"
   ]
  },
  {
   "cell_type": "code",
   "execution_count": 29,
   "metadata": {
    "collapsed": false
   },
   "outputs": [
    {
     "data": {
      "text/plain": [
       "[(1, 'Nepal', 'NEP'),\n",
       " (2, 'India', 'INA'),\n",
       " (3, 'Bhutan', 'BHU'),\n",
       " (4, 'Afghanistan', 'AFG'),\n",
       " (5, 'Pakistan', 'PAK')]"
      ]
     },
     "execution_count": 29,
     "metadata": {},
     "output_type": "execute_result"
    }
   ],
   "source": [
    "cur.execute('SELECT * FROM countries')\n",
    "cur.fetchall()"
   ]
  },
  {
   "cell_type": "code",
   "execution_count": 30,
   "metadata": {
    "collapsed": true
   },
   "outputs": [],
   "source": [
    "conn.commit()\n",
    "#to write in the database"
   ]
  },
  {
   "cell_type": "code",
   "execution_count": 31,
   "metadata": {
    "collapsed": false
   },
   "outputs": [
    {
     "data": {
      "text/plain": [
       "[(4, 'Afghanistan', 'AFG')]"
      ]
     },
     "execution_count": 31,
     "metadata": {},
     "output_type": "execute_result"
    }
   ],
   "source": [
    "cur.execute('SELECT * FROM countries WHERE id=4')\n",
    "cur.fetchall()"
   ]
  },
  {
   "cell_type": "code",
   "execution_count": 32,
   "metadata": {
    "collapsed": false
   },
   "outputs": [
    {
     "data": {
      "text/plain": [
       "[(4, 'Afghanistan', 'AFG'), (5, 'Pakistan', 'PAK')]"
      ]
     },
     "execution_count": 32,
     "metadata": {},
     "output_type": "execute_result"
    }
   ],
   "source": [
    "cur.execute('SELECT * FROM countries WHERE id>3')\n",
    "cur.fetchall()"
   ]
  },
  {
   "cell_type": "code",
   "execution_count": 34,
   "metadata": {
    "collapsed": false
   },
   "outputs": [
    {
     "data": {
      "text/plain": [
       "[(3, 'Bhutan', 'BHU'), (4, 'Afghanistan', 'AFG'), (5, 'Pakistan', 'PAK')]"
      ]
     },
     "execution_count": 34,
     "metadata": {},
     "output_type": "execute_result"
    }
   ],
   "source": [
    "cur.execute('SELECT * FROM countries WHERE name LIKE \"%an\"')\n",
    "cur.fetchall()"
   ]
  },
  {
   "cell_type": "code",
   "execution_count": 35,
   "metadata": {
    "collapsed": false
   },
   "outputs": [
    {
     "data": {
      "text/plain": [
       "[(3, 'Bhutan', 'BHU'), (4, 'Afghanistan', 'AFG'), (5, 'Pakistan', 'PAK')]"
      ]
     },
     "execution_count": 35,
     "metadata": {},
     "output_type": "execute_result"
    }
   ],
   "source": [
    "cur.execute('SELECT * FROM countries WHERE name LIKE \"%an%\"')\n",
    "cur.fetchall()\n",
    "#  last ma ra 1st ma  j bhaye ni huncha"
   ]
  },
  {
   "cell_type": "code",
   "execution_count": 36,
   "metadata": {
    "collapsed": false
   },
   "outputs": [
    {
     "data": {
      "text/plain": [
       "[]"
      ]
     },
     "execution_count": 36,
     "metadata": {},
     "output_type": "execute_result"
    }
   ],
   "source": [
    "cur.execute('SELECT * FROM countries WHERE name LIKE \"an%\"')\n",
    "cur.fetchall()\n",
    "# must start with an "
   ]
  },
  {
   "cell_type": "code",
   "execution_count": 48,
   "metadata": {
    "collapsed": false
   },
   "outputs": [
    {
     "data": {
      "text/plain": [
       "[]"
      ]
     },
     "execution_count": 48,
     "metadata": {},
     "output_type": "execute_result"
    }
   ],
   "source": [
    "cur.execute('DELETE FROM countries')\n",
    "cur.fetchall()"
   ]
  },
  {
   "cell_type": "code",
   "execution_count": null,
   "metadata": {
    "collapsed": true
   },
   "outputs": [],
   "source": []
  },
  {
   "cell_type": "code",
   "execution_count": 59,
   "metadata": {
    "collapsed": true
   },
   "outputs": [],
   "source": [
    "import csv"
   ]
  },
  {
   "cell_type": "code",
   "execution_count": 51,
   "metadata": {
    "collapsed": false
   },
   "outputs": [],
   "source": [
    "sql='INSERT INTO  countries (id,name ,iso3) VALUES (?,?,?)'\n",
    "_id= 1\n",
    "with open('netdata.txt','r') as datafile:\n",
    "    csvfile=csv.DictReader(datafile)\n",
    "    for row in csvfile:\n",
    "        if row['Common Name'] and row['ISO 3166-1 3 Letter Code']:\n",
    "            cur.execute(sql, (_id, row['Common Name'], row['ISO 3166-1 3 Letter Code']))\n",
    "            _id+=1\n",
    "conn.commit()"
   ]
  },
  {
   "cell_type": "code",
   "execution_count": null,
   "metadata": {
    "collapsed": true
   },
   "outputs": [],
   "source": []
  },
  {
   "cell_type": "code",
   "execution_count": 52,
   "metadata": {
    "collapsed": false
   },
   "outputs": [
    {
     "data": {
      "text/plain": [
       "[(1, 'Afghanistan', 'AFG'),\n",
       " (2, 'Albania', 'ALB'),\n",
       " (3, 'Algeria', 'DZA'),\n",
       " (4, 'Andorra', 'AND'),\n",
       " (5, 'Angola', 'AGO'),\n",
       " (6, 'Antigua and Barbuda', 'ATG'),\n",
       " (7, 'Argentina', 'ARG'),\n",
       " (8, 'Armenia', 'ARM'),\n",
       " (9, 'Australia', 'AUS'),\n",
       " (10, 'Austria', 'AUT'),\n",
       " (11, 'Azerbaijan', 'AZE'),\n",
       " (12, 'Bahamas, The', 'BHS'),\n",
       " (13, 'Bahrain', 'BHR'),\n",
       " (14, 'Bangladesh', 'BGD'),\n",
       " (15, 'Barbados', 'BRB'),\n",
       " (16, 'Belarus', 'BLR'),\n",
       " (17, 'Belgium', 'BEL'),\n",
       " (18, 'Belize', 'BLZ'),\n",
       " (19, 'Benin', 'BEN'),\n",
       " (20, 'Bhutan', 'BTN'),\n",
       " (21, 'Bolivia', 'BOL'),\n",
       " (22, 'Bosnia and Herzegovina', 'BIH'),\n",
       " (23, 'Botswana', 'BWA'),\n",
       " (24, 'Brazil', 'BRA'),\n",
       " (25, 'Brunei', 'BRN'),\n",
       " (26, 'Bulgaria', 'BGR'),\n",
       " (27, 'Burkina Faso', 'BFA'),\n",
       " (28, 'Burundi', 'BDI'),\n",
       " (29, 'Cambodia', 'KHM'),\n",
       " (30, 'Cameroon', 'CMR'),\n",
       " (31, 'Canada', 'CAN'),\n",
       " (32, 'Cape Verde', 'CPV'),\n",
       " (33, 'Central African Republic', 'CAF'),\n",
       " (34, 'Chad', 'TCD'),\n",
       " (35, 'Chile', 'CHL'),\n",
       " (36, \"China, People's Republic of\", 'CHN'),\n",
       " (37, 'Colombia', 'COL'),\n",
       " (38, 'Comoros', 'COM'),\n",
       " (39, 'Congo, (Congo Â– Kinshasa)', 'COD'),\n",
       " (40, 'Congo, (Congo Â– Brazzaville)', 'COG'),\n",
       " (41, 'Costa Rica', 'CRI'),\n",
       " (42, \"Cote d'Ivoire (Ivory Coast)\", 'CIV'),\n",
       " (43, 'Croatia', 'HRV'),\n",
       " (44, 'Cuba', 'CUB'),\n",
       " (45, 'Cyprus', 'CYP'),\n",
       " (46, 'Czech Republic', 'CZE'),\n",
       " (47, 'Denmark', 'DNK'),\n",
       " (48, 'Djibouti', 'DJI'),\n",
       " (49, 'Dominica', 'DMA'),\n",
       " (50, 'Dominican Republic', 'DOM'),\n",
       " (51, 'Ecuador', 'ECU'),\n",
       " (52, 'Egypt', 'EGY'),\n",
       " (53, 'El Salvador', 'SLV'),\n",
       " (54, 'Equatorial Guinea', 'GNQ'),\n",
       " (55, 'Eritrea', 'ERI'),\n",
       " (56, 'Estonia', 'EST'),\n",
       " (57, 'Ethiopia', 'ETH'),\n",
       " (58, 'Fiji', 'FJI'),\n",
       " (59, 'Finland', 'FIN'),\n",
       " (60, 'France', 'FRA'),\n",
       " (61, 'Gabon', 'GAB'),\n",
       " (62, 'Gambia, The', 'GMB'),\n",
       " (63, 'Georgia', 'GEO'),\n",
       " (64, 'Germany', 'DEU'),\n",
       " (65, 'Ghana', 'GHA'),\n",
       " (66, 'Greece', 'GRC'),\n",
       " (67, 'Grenada', 'GRD'),\n",
       " (68, 'Guatemala', 'GTM'),\n",
       " (69, 'Guinea', 'GIN'),\n",
       " (70, 'Guinea-Bissau', 'GNB'),\n",
       " (71, 'Guyana', 'GUY'),\n",
       " (72, 'Haiti', 'HTI'),\n",
       " (73, 'Honduras', 'HND'),\n",
       " (74, 'Hungary', 'HUN'),\n",
       " (75, 'Iceland', 'ISL'),\n",
       " (76, 'India', 'IND'),\n",
       " (77, 'Indonesia', 'IDN'),\n",
       " (78, 'Iran', 'IRN'),\n",
       " (79, 'Iraq', 'IRQ'),\n",
       " (80, 'Ireland', 'IRL'),\n",
       " (81, 'Israel', 'ISR'),\n",
       " (82, 'Italy', 'ITA'),\n",
       " (83, 'Jamaica', 'JAM'),\n",
       " (84, 'Japan', 'JPN'),\n",
       " (85, 'Jordan', 'JOR'),\n",
       " (86, 'Kazakhstan', 'KAZ'),\n",
       " (87, 'Kenya', 'KEN'),\n",
       " (88, 'Kiribati', 'KIR'),\n",
       " (89, 'Korea, North', 'PRK'),\n",
       " (90, 'Korea, South', 'KOR'),\n",
       " (91, 'Kuwait', 'KWT'),\n",
       " (92, 'Kyrgyzstan', 'KGZ'),\n",
       " (93, 'Laos', 'LAO'),\n",
       " (94, 'Latvia', 'LVA'),\n",
       " (95, 'Lebanon', 'LBN'),\n",
       " (96, 'Lesotho', 'LSO'),\n",
       " (97, 'Liberia', 'LBR'),\n",
       " (98, 'Libya', 'LBY'),\n",
       " (99, 'Liechtenstein', 'LIE'),\n",
       " (100, 'Lithuania', 'LTU'),\n",
       " (101, 'Luxembourg', 'LUX'),\n",
       " (102, 'Macedonia', 'MKD'),\n",
       " (103, 'Madagascar', 'MDG'),\n",
       " (104, 'Malawi', 'MWI'),\n",
       " (105, 'Malaysia', 'MYS'),\n",
       " (106, 'Maldives', 'MDV'),\n",
       " (107, 'Mali', 'MLI'),\n",
       " (108, 'Malta', 'MLT'),\n",
       " (109, 'Marshall Islands', 'MHL'),\n",
       " (110, 'Mauritania', 'MRT'),\n",
       " (111, 'Mauritius', 'MUS'),\n",
       " (112, 'Mexico', 'MEX'),\n",
       " (113, 'Micronesia', 'FSM'),\n",
       " (114, 'Moldova', 'MDA'),\n",
       " (115, 'Monaco', 'MCO'),\n",
       " (116, 'Mongolia', 'MNG'),\n",
       " (117, 'Montenegro', 'MNE'),\n",
       " (118, 'Morocco', 'MAR'),\n",
       " (119, 'Mozambique', 'MOZ'),\n",
       " (120, 'Myanmar (Burma)', 'MMR'),\n",
       " (121, 'Namibia', 'NAM'),\n",
       " (122, 'Nauru', 'NRU'),\n",
       " (123, 'Nepal', 'NPL'),\n",
       " (124, 'Netherlands', 'NLD'),\n",
       " (125, 'New Zealand', 'NZL'),\n",
       " (126, 'Nicaragua', 'NIC'),\n",
       " (127, 'Niger', 'NER'),\n",
       " (128, 'Nigeria', 'NGA'),\n",
       " (129, 'Norway', 'NOR'),\n",
       " (130, 'Oman', 'OMN'),\n",
       " (131, 'Pakistan', 'PAK'),\n",
       " (132, 'Palau', 'PLW'),\n",
       " (133, 'Panama', 'PAN'),\n",
       " (134, 'Papua New Guinea', 'PNG'),\n",
       " (135, 'Paraguay', 'PRY'),\n",
       " (136, 'Peru', 'PER'),\n",
       " (137, 'Philippines', 'PHL'),\n",
       " (138, 'Poland', 'POL'),\n",
       " (139, 'Portugal', 'PRT'),\n",
       " (140, 'Qatar', 'QAT'),\n",
       " (141, 'Romania', 'ROU'),\n",
       " (142, 'Russia', 'RUS'),\n",
       " (143, 'Rwanda', 'RWA'),\n",
       " (144, 'Saint Kitts and Nevis', 'KNA'),\n",
       " (145, 'Saint Lucia', 'LCA'),\n",
       " (146, 'Saint Vincent and the Grenadines', 'VCT'),\n",
       " (147, 'Samoa', 'WSM'),\n",
       " (148, 'San Marino', 'SMR'),\n",
       " (149, 'Sao Tome and Principe', 'STP'),\n",
       " (150, 'Saudi Arabia', 'SAU'),\n",
       " (151, 'Senegal', 'SEN'),\n",
       " (152, 'Serbia', 'SRB'),\n",
       " (153, 'Seychelles', 'SYC'),\n",
       " (154, 'Sierra Leone', 'SLE'),\n",
       " (155, 'Singapore', 'SGP'),\n",
       " (156, 'Slovakia', 'SVK'),\n",
       " (157, 'Slovenia', 'SVN'),\n",
       " (158, 'Solomon Islands', 'SLB'),\n",
       " (159, 'Somalia', 'SOM'),\n",
       " (160, 'South Africa', 'ZAF'),\n",
       " (161, 'Spain', 'ESP'),\n",
       " (162, 'Sri Lanka', 'LKA'),\n",
       " (163, 'Sudan', 'SDN'),\n",
       " (164, 'Suriname', 'SUR'),\n",
       " (165, 'Swaziland', 'SWZ'),\n",
       " (166, 'Sweden', 'SWE'),\n",
       " (167, 'Switzerland', 'CHE'),\n",
       " (168, 'Syria', 'SYR'),\n",
       " (169, 'Tajikistan', 'TJK'),\n",
       " (170, 'Tanzania', 'TZA'),\n",
       " (171, 'Thailand', 'THA'),\n",
       " (172, 'Timor-Leste (East Timor)', 'TLS'),\n",
       " (173, 'Togo', 'TGO'),\n",
       " (174, 'Tonga', 'TON'),\n",
       " (175, 'Trinidad and Tobago', 'TTO'),\n",
       " (176, 'Tunisia', 'TUN'),\n",
       " (177, 'Turkey', 'TUR'),\n",
       " (178, 'Turkmenistan', 'TKM'),\n",
       " (179, 'Tuvalu', 'TUV'),\n",
       " (180, 'Uganda', 'UGA'),\n",
       " (181, 'Ukraine', 'UKR'),\n",
       " (182, 'United Arab Emirates', 'ARE'),\n",
       " (183, 'United Kingdom', 'GBR'),\n",
       " (184, 'United States', 'USA'),\n",
       " (185, 'Uruguay', 'URY'),\n",
       " (186, 'Uzbekistan', 'UZB'),\n",
       " (187, 'Vanuatu', 'VUT'),\n",
       " (188, 'Vatican City', 'VAT'),\n",
       " (189, 'Venezuela', 'VEN'),\n",
       " (190, 'Vietnam', 'VNM'),\n",
       " (191, 'Yemen', 'YEM'),\n",
       " (192, 'Zambia', 'ZMB'),\n",
       " (193, 'Zimbabwe', 'ZWE'),\n",
       " (194, 'Abkhazia', 'GEO'),\n",
       " (195, 'China, Republic of (Taiwan)', 'TWN'),\n",
       " (196, 'Nagorno-Karabakh', 'AZE'),\n",
       " (197, 'Northern Cyprus', 'CYP'),\n",
       " (198, 'Pridnestrovie (Transnistria)', 'MDA'),\n",
       " (199, 'Somaliland', 'SOM'),\n",
       " (200, 'South Ossetia', 'GEO'),\n",
       " (201, 'Ashmore and Cartier Islands', 'AUS'),\n",
       " (202, 'Christmas Island', 'CXR'),\n",
       " (203, 'Cocos (Keeling) Islands', 'CCK'),\n",
       " (204, 'Coral Sea Islands', 'AUS'),\n",
       " (205, 'Heard Island and McDonald Islands', 'HMD'),\n",
       " (206, 'Norfolk Island', 'NFK'),\n",
       " (207, 'New Caledonia', 'NCL'),\n",
       " (208, 'French Polynesia', 'PYF'),\n",
       " (209, 'Mayotte', 'MYT'),\n",
       " (210, 'Saint Barthelemy', 'GLP'),\n",
       " (211, 'Saint Martin', 'GLP'),\n",
       " (212, 'Saint Pierre and Miquelon', 'SPM'),\n",
       " (213, 'Wallis and Futuna', 'WLF'),\n",
       " (214, 'French Southern and Antarctic Lands', 'ATF'),\n",
       " (215, 'Clipperton Island', 'PYF'),\n",
       " (216, 'Bouvet Island', 'BVT'),\n",
       " (217, 'Cook Islands', 'COK'),\n",
       " (218, 'Niue', 'NIU'),\n",
       " (219, 'Tokelau', 'TKL'),\n",
       " (220, 'Guernsey', 'GGY'),\n",
       " (221, 'Isle of Man', 'IMN'),\n",
       " (222, 'Jersey', 'JEY'),\n",
       " (223, 'Anguilla', 'AIA'),\n",
       " (224, 'Bermuda', 'BMU'),\n",
       " (225, 'British Indian Ocean Territory', 'IOT'),\n",
       " (226, 'British Virgin Islands', 'VGB'),\n",
       " (227, 'Cayman Islands', 'CYM'),\n",
       " (228, 'Falkland Islands (Islas Malvinas)', 'FLK'),\n",
       " (229, 'Gibraltar', 'GIB'),\n",
       " (230, 'Montserrat', 'MSR'),\n",
       " (231, 'Pitcairn Islands', 'PCN'),\n",
       " (232, 'Saint Helena', 'SHN'),\n",
       " (233, 'South Georgia & South Sandwich Islands', 'SGS'),\n",
       " (234, 'Turks and Caicos Islands', 'TCA'),\n",
       " (235, 'Northern Mariana Islands', 'MNP'),\n",
       " (236, 'Puerto Rico', 'PRI'),\n",
       " (237, 'American Samoa', 'ASM'),\n",
       " (238, 'Baker Island', 'UMI'),\n",
       " (239, 'Guam', 'GUM'),\n",
       " (240, 'Howland Island', 'UMI'),\n",
       " (241, 'Jarvis Island', 'UMI'),\n",
       " (242, 'Johnston Atoll', 'UMI'),\n",
       " (243, 'Kingman Reef', 'UMI'),\n",
       " (244, 'Midway Islands', 'UMI'),\n",
       " (245, 'Navassa Island', 'UMI'),\n",
       " (246, 'Palmyra Atoll', 'UMI'),\n",
       " (247, 'U.S. Virgin Islands', 'VIR'),\n",
       " (248, 'Wake Island', 'UMI'),\n",
       " (249, 'Hong Kong', 'HKG'),\n",
       " (250, 'Macau', 'MAC'),\n",
       " (251, 'Faroe Islands', 'FRO'),\n",
       " (252, 'Greenland', 'GRL'),\n",
       " (253, 'French Guiana', 'GUF'),\n",
       " (254, 'Guadeloupe', 'GLP'),\n",
       " (255, 'Martinique', 'MTQ'),\n",
       " (256, 'Reunion', 'REU'),\n",
       " (257, 'Aland', 'ALA'),\n",
       " (258, 'Aruba', 'ABW'),\n",
       " (259, 'Netherlands Antilles', 'ANT'),\n",
       " (260, 'Svalbard', 'SJM'),\n",
       " (261, 'Ascension', 'ASC'),\n",
       " (262, 'Tristan da Cunha', 'TAA'),\n",
       " (263, 'Australian Antarctic Territory', 'ATA'),\n",
       " (264, 'Ross Dependency', 'ATA'),\n",
       " (265, 'Peter I Island', 'ATA'),\n",
       " (266, 'Queen Maud Land', 'ATA'),\n",
       " (267, 'British Antarctic Territory', 'ATA')]"
      ]
     },
     "execution_count": 52,
     "metadata": {},
     "output_type": "execute_result"
    }
   ],
   "source": [
    "cur.execute('SELECT * FROM countries')\n",
    "cur.fetchall()"
   ]
  },
  {
   "cell_type": "code",
   "execution_count": 70,
   "metadata": {
    "collapsed": false
   },
   "outputs": [
    {
     "data": {
      "text/plain": [
       "[]"
      ]
     },
     "execution_count": 70,
     "metadata": {},
     "output_type": "execute_result"
    }
   ],
   "source": [
    "cur.execute('DELETE FROM country_list')\n",
    "cur.fetchall()"
   ]
  },
  {
   "cell_type": "code",
   "execution_count": 71,
   "metadata": {
    "collapsed": false
   },
   "outputs": [
    {
     "ename": "OperationalError",
     "evalue": "table country_list already exists",
     "output_type": "error",
     "traceback": [
      "\u001b[1;31m---------------------------------------------------------------------------\u001b[0m",
      "\u001b[1;31mOperationalError\u001b[0m                          Traceback (most recent call last)",
      "\u001b[1;32m<ipython-input-71-24022c1bbd09>\u001b[0m in \u001b[0;36m<module>\u001b[1;34m()\u001b[0m\n\u001b[0;32m      3\u001b[0m \u001b[0mcountry_name\u001b[0m \u001b[0mtext\u001b[0m \u001b[1;32mnot\u001b[0m \u001b[0mnull\u001b[0m\u001b[1;33m,\u001b[0m\u001b[1;33m\u001b[0m\u001b[0m\n\u001b[0;32m      4\u001b[0m iso3 text not null unique)'''\n\u001b[1;32m----> 5\u001b[1;33m \u001b[0mcur\u001b[0m\u001b[1;33m.\u001b[0m\u001b[0mexecute\u001b[0m\u001b[1;33m(\u001b[0m\u001b[0msql\u001b[0m\u001b[1;33m)\u001b[0m\u001b[1;33m\u001b[0m\u001b[0m\n\u001b[0m",
      "\u001b[1;31mOperationalError\u001b[0m: table country_list already exists"
     ]
    }
   ],
   "source": [
    "sql= '''CREATE TABLE\n",
    "country_list (id integer primary key autoincrement,\n",
    "country_name text not null,\n",
    "iso3 text not null unique)'''\n",
    "cur.execute(sql)"
   ]
  },
  {
   "cell_type": "code",
   "execution_count": 72,
   "metadata": {
    "collapsed": false
   },
   "outputs": [],
   "source": [
    "sql='INSERT INTO  country_list (country_name ,iso3) VALUES (?,?)'\n",
    "with open('netdata.txt','r') as datafile:\n",
    "    csvfile=csv.DictReader(datafile)\n",
    "    for row in csvfile:\n",
    "        if row['Common Name'] and row['Formal Name']:\n",
    "            cur.execute(sql, (row['Common Name'], row['Formal Name']))\n",
    "conn.commit()"
   ]
  },
  {
   "cell_type": "code",
   "execution_count": 73,
   "metadata": {
    "collapsed": false
   },
   "outputs": [
    {
     "data": {
      "text/plain": [
       "[(395, 'Afghanistan', 'Islamic State of Afghanistan'),\n",
       " (396, 'Albania', 'Republic of Albania'),\n",
       " (397, 'Algeria', \"People's Democratic Republic of Algeria\"),\n",
       " (398, 'Andorra', 'Principality of Andorra'),\n",
       " (399, 'Angola', 'Republic of Angola'),\n",
       " (400, 'Argentina', 'Argentine Republic'),\n",
       " (401, 'Armenia', 'Republic of Armenia'),\n",
       " (402, 'Australia', 'Commonwealth of Australia'),\n",
       " (403, 'Austria', 'Republic of Austria'),\n",
       " (404, 'Azerbaijan', 'Republic of Azerbaijan'),\n",
       " (405, 'Bahamas, The', 'Commonwealth of The Bahamas'),\n",
       " (406, 'Bahrain', 'Kingdom of Bahrain'),\n",
       " (407, 'Bangladesh', \"People's Republic of Bangladesh\"),\n",
       " (408, 'Belarus', 'Republic of Belarus'),\n",
       " (409, 'Belgium', 'Kingdom of Belgium'),\n",
       " (410, 'Benin', 'Republic of Benin'),\n",
       " (411, 'Bhutan', 'Kingdom of Bhutan'),\n",
       " (412, 'Bolivia', 'Republic of Bolivia'),\n",
       " (413, 'Botswana', 'Republic of Botswana'),\n",
       " (414, 'Brazil', 'Federative Republic of Brazil'),\n",
       " (415, 'Brunei', 'Negara Brunei Darussalam'),\n",
       " (416, 'Bulgaria', 'Republic of Bulgaria'),\n",
       " (417, 'Burundi', 'Republic of Burundi'),\n",
       " (418, 'Cambodia', 'Kingdom of Cambodia'),\n",
       " (419, 'Cameroon', 'Republic of Cameroon'),\n",
       " (420, 'Cape Verde', 'Republic of Cape Verde'),\n",
       " (421, 'Chad', 'Republic of Chad'),\n",
       " (422, 'Chile', 'Republic of Chile'),\n",
       " (423, \"China, People's Republic of\", \"People's Republic of China\"),\n",
       " (424, 'Colombia', 'Republic of Colombia'),\n",
       " (425, 'Comoros', 'Union of Comoros'),\n",
       " (426, 'Congo, (Congo Â– Kinshasa)', 'Democratic Republic of the Congo'),\n",
       " (427, 'Congo, (Congo Â– Brazzaville)', 'Republic of the Congo'),\n",
       " (428, 'Costa Rica', 'Republic of Costa Rica'),\n",
       " (429, \"Cote d'Ivoire (Ivory Coast)\", \"Republic of Cote d'Ivoire\"),\n",
       " (430, 'Croatia', 'Republic of Croatia'),\n",
       " (431, 'Cuba', 'Republic of Cuba'),\n",
       " (432, 'Cyprus', 'Republic of Cyprus'),\n",
       " (433, 'Denmark', 'Kingdom of Denmark'),\n",
       " (434, 'Djibouti', 'Republic of Djibouti'),\n",
       " (435, 'Dominica', 'Commonwealth of Dominica'),\n",
       " (436, 'Ecuador', 'Republic of Ecuador'),\n",
       " (437, 'Egypt', 'Arab Republic of Egypt'),\n",
       " (438, 'El Salvador', 'Republic of El Salvador'),\n",
       " (439, 'Equatorial Guinea', 'Republic of Equatorial Guinea'),\n",
       " (440, 'Eritrea', 'State of Eritrea'),\n",
       " (441, 'Estonia', 'Republic of Estonia'),\n",
       " (442, 'Ethiopia', 'Federal Democratic Republic of Ethiopia'),\n",
       " (443, 'Fiji', 'Republic of the Fiji Islands'),\n",
       " (444, 'Finland', 'Republic of Finland'),\n",
       " (445, 'France', 'French Republic'),\n",
       " (446, 'Gabon', 'Gabonese Republic'),\n",
       " (447, 'Gambia, The', 'Republic of The Gambia'),\n",
       " (448, 'Georgia', 'Republic of Georgia'),\n",
       " (449, 'Germany', 'Federal Republic of Germany'),\n",
       " (450, 'Ghana', 'Republic of Ghana'),\n",
       " (451, 'Greece', 'Hellenic Republic'),\n",
       " (452, 'Guatemala', 'Republic of Guatemala'),\n",
       " (453, 'Guinea', 'Republic of Guinea'),\n",
       " (454, 'Guinea-Bissau', 'Republic of Guinea-Bissau'),\n",
       " (455, 'Guyana', 'Co-operative Republic of Guyana'),\n",
       " (456, 'Haiti', 'Republic of Haiti'),\n",
       " (457, 'Honduras', 'Republic of Honduras'),\n",
       " (458, 'Hungary', 'Republic of Hungary'),\n",
       " (459, 'Iceland', 'Republic of Iceland'),\n",
       " (460, 'India', 'Republic of India'),\n",
       " (461, 'Indonesia', 'Republic of Indonesia'),\n",
       " (462, 'Iran', 'Islamic Republic of Iran'),\n",
       " (463, 'Iraq', 'Republic of Iraq'),\n",
       " (464, 'Israel', 'State of Israel'),\n",
       " (465, 'Italy', 'Italian Republic'),\n",
       " (466, 'Jordan', 'Hashemite Kingdom of Jordan'),\n",
       " (467, 'Kazakhstan', 'Republic of Kazakhstan'),\n",
       " (468, 'Kenya', 'Republic of Kenya'),\n",
       " (469, 'Kiribati', 'Republic of Kiribati'),\n",
       " (470, 'Korea, North', \"Democratic People's Republic of Korea\"),\n",
       " (471, 'Korea, South', 'Republic of Korea'),\n",
       " (472, 'Kuwait', 'State of Kuwait'),\n",
       " (473, 'Kyrgyzstan', 'Kyrgyz Republic'),\n",
       " (474, 'Laos', \"Lao People's Democratic Republic\"),\n",
       " (475, 'Latvia', 'Republic of Latvia'),\n",
       " (476, 'Lebanon', 'Lebanese Republic'),\n",
       " (477, 'Lesotho', 'Kingdom of Lesotho'),\n",
       " (478, 'Liberia', 'Republic of Liberia'),\n",
       " (479, 'Libya', \"Great Socialist People's Libyan Arab Jamahiriya\"),\n",
       " (480, 'Liechtenstein', 'Principality of Liechtenstein'),\n",
       " (481, 'Lithuania', 'Republic of Lithuania'),\n",
       " (482, 'Luxembourg', 'Grand Duchy of Luxembourg'),\n",
       " (483, 'Macedonia', 'Republic of Macedonia'),\n",
       " (484, 'Madagascar', 'Republic of Madagascar'),\n",
       " (485, 'Malawi', 'Republic of Malawi'),\n",
       " (486, 'Maldives', 'Republic of Maldives'),\n",
       " (487, 'Mali', 'Republic of Mali'),\n",
       " (488, 'Malta', 'Republic of Malta'),\n",
       " (489, 'Marshall Islands', 'Republic of the Marshall Islands'),\n",
       " (490, 'Mauritania', 'Islamic Republic of Mauritania'),\n",
       " (491, 'Mauritius', 'Republic of Mauritius'),\n",
       " (492, 'Mexico', 'United Mexican States'),\n",
       " (493, 'Micronesia', 'Federated States of Micronesia'),\n",
       " (494, 'Moldova', 'Republic of Moldova'),\n",
       " (495, 'Monaco', 'Principality of Monaco'),\n",
       " (496, 'Montenegro', 'Republic of Montenegro'),\n",
       " (497, 'Morocco', 'Kingdom of Morocco'),\n",
       " (498, 'Mozambique', 'Republic of Mozambique'),\n",
       " (499, 'Myanmar (Burma)', 'Union of Myanmar'),\n",
       " (500, 'Namibia', 'Republic of Namibia'),\n",
       " (501, 'Nauru', 'Republic of Nauru'),\n",
       " (502, 'Netherlands', 'Kingdom of the Netherlands'),\n",
       " (503, 'Nicaragua', 'Republic of Nicaragua'),\n",
       " (504, 'Niger', 'Republic of Niger'),\n",
       " (505, 'Nigeria', 'Federal Republic of Nigeria'),\n",
       " (506, 'Norway', 'Kingdom of Norway'),\n",
       " (507, 'Oman', 'Sultanate of Oman'),\n",
       " (508, 'Pakistan', 'Islamic Republic of Pakistan'),\n",
       " (509, 'Palau', 'Republic of Palau'),\n",
       " (510, 'Panama', 'Republic of Panama'),\n",
       " (511, 'Papua New Guinea', 'Independent State of Papua New Guinea'),\n",
       " (512, 'Paraguay', 'Republic of Paraguay'),\n",
       " (513, 'Peru', 'Republic of Peru'),\n",
       " (514, 'Philippines', 'Republic of the Philippines'),\n",
       " (515, 'Poland', 'Republic of Poland'),\n",
       " (516, 'Portugal', 'Portuguese Republic'),\n",
       " (517, 'Qatar', 'State of Qatar'),\n",
       " (518, 'Russia', 'Russian Federation'),\n",
       " (519, 'Rwanda', 'Republic of Rwanda'),\n",
       " (520, 'Saint Kitts and Nevis', 'Federation of Saint Kitts and Nevis'),\n",
       " (521, 'Samoa', 'Independent State of Samoa'),\n",
       " (522, 'San Marino', 'Republic of San Marino'),\n",
       " (523,\n",
       "  'Sao Tome and Principe',\n",
       "  'Democratic Republic of Sao Tome and Principe'),\n",
       " (524, 'Saudi Arabia', 'Kingdom of Saudi Arabia'),\n",
       " (525, 'Senegal', 'Republic of Senegal'),\n",
       " (526, 'Serbia', 'Republic of Serbia'),\n",
       " (527, 'Seychelles', 'Republic of Seychelles'),\n",
       " (528, 'Sierra Leone', 'Republic of Sierra Leone'),\n",
       " (529, 'Singapore', 'Republic of Singapore'),\n",
       " (530, 'Slovakia', 'Slovak Republic'),\n",
       " (531, 'Slovenia', 'Republic of Slovenia'),\n",
       " (532, 'South Africa', 'Republic of South Africa'),\n",
       " (533, 'Spain', 'Kingdom of Spain'),\n",
       " (534, 'Sri Lanka', 'Democratic Socialist Republic of Sri Lanka'),\n",
       " (535, 'Sudan', 'Republic of the Sudan'),\n",
       " (536, 'Suriname', 'Republic of Suriname'),\n",
       " (537, 'Swaziland', 'Kingdom of Swaziland'),\n",
       " (538, 'Sweden', 'Kingdom of Sweden'),\n",
       " (539, 'Switzerland', 'Swiss Confederation'),\n",
       " (540, 'Syria', 'Syrian Arab Republic'),\n",
       " (541, 'Tajikistan', 'Republic of Tajikistan'),\n",
       " (542, 'Tanzania', 'United Republic of Tanzania'),\n",
       " (543, 'Thailand', 'Kingdom of Thailand'),\n",
       " (544, 'Timor-Leste (East Timor)', 'Democratic Republic of Timor-Leste'),\n",
       " (545, 'Togo', 'Togolese Republic'),\n",
       " (546, 'Tonga', 'Kingdom of Tonga'),\n",
       " (547, 'Trinidad and Tobago', 'Republic of Trinidad and Tobago'),\n",
       " (548, 'Tunisia', 'Tunisian Republic'),\n",
       " (549, 'Turkey', 'Republic of Turkey'),\n",
       " (550, 'Uganda', 'Republic of Uganda'),\n",
       " (551, 'United Arab Emirates', 'United Arab Emirates'),\n",
       " (552,\n",
       "  'United Kingdom',\n",
       "  'United Kingdom of Great Britain and Northern Ireland'),\n",
       " (553, 'United States', 'United States of America'),\n",
       " (554, 'Uruguay', 'Oriental Republic of Uruguay'),\n",
       " (555, 'Uzbekistan', 'Republic of Uzbekistan'),\n",
       " (556, 'Vanuatu', 'Republic of Vanuatu'),\n",
       " (557, 'Vatican City', 'State of the Vatican City'),\n",
       " (558, 'Venezuela', 'Bolivarian Republic of Venezuela'),\n",
       " (559, 'Vietnam', 'Socialist Republic of Vietnam'),\n",
       " (560, 'Yemen', 'Republic of Yemen'),\n",
       " (561, 'Zambia', 'Republic of Zambia'),\n",
       " (562, 'Zimbabwe', 'Republic of Zimbabwe'),\n",
       " (563, 'Abkhazia', 'Republic of Abkhazia'),\n",
       " (564, 'China, Republic of (Taiwan)', 'Republic of China'),\n",
       " (565, 'Nagorno-Karabakh', 'Nagorno-Karabakh Republic'),\n",
       " (566, 'Northern Cyprus', 'Turkish Republic of Northern Cyprus'),\n",
       " (567, 'Pridnestrovie (Transnistria)', 'Pridnestrovian Moldavian Republic'),\n",
       " (568, 'Somaliland', 'Republic of Somaliland'),\n",
       " (569, 'South Ossetia', 'Republic of South Ossetia'),\n",
       " (570,\n",
       "  'Ashmore and Cartier Islands',\n",
       "  'Territory of Ashmore and Cartier Islands'),\n",
       " (571, 'Christmas Island', 'Territory of Christmas Island'),\n",
       " (572, 'Cocos (Keeling) Islands', 'Territory of Cocos (Keeling) Islands'),\n",
       " (573, 'Coral Sea Islands', 'Coral Sea Islands Territory'),\n",
       " (574,\n",
       "  'Heard Island and McDonald Islands',\n",
       "  'Territory of Heard Island and McDonald Islands'),\n",
       " (575, 'Norfolk Island', 'Territory of Norfolk Island'),\n",
       " (576, 'French Polynesia', 'Overseas Country of French Polynesia'),\n",
       " (577, 'Mayotte', 'Departmental Collectivity of Mayotte'),\n",
       " (578, 'Saint Barthelemy', 'Collectivity of Saint Barthelemy'),\n",
       " (579, 'Saint Martin', 'Collectivity of Saint Martin'),\n",
       " (580,\n",
       "  'Saint Pierre and Miquelon',\n",
       "  'Territorial Collectivity of Saint Pierre and Miquelon'),\n",
       " (581, 'Wallis and Futuna', 'Collectivity of the Wallis and Futuna Islands'),\n",
       " (582,\n",
       "  'French Southern and Antarctic Lands',\n",
       "  'Territory of the French Southern and Antarctic Lands'),\n",
       " (583, 'Guernsey', 'Bailiwick of Guernsey'),\n",
       " (584, 'Jersey', 'Bailiwick of Jersey'),\n",
       " (585,\n",
       "  'Northern Mariana Islands',\n",
       "  'Commonwealth of The Northern Mariana Islands'),\n",
       " (586, 'Puerto Rico', 'Commonwealth of Puerto Rico'),\n",
       " (587, 'American Samoa', 'Territory of American Samoa'),\n",
       " (588, 'Guam', 'Territory of Guam'),\n",
       " (589, 'U.S. Virgin Islands', 'United States Virgin Islands'),\n",
       " (590, 'Hong Kong', 'Hong Kong Special Administrative Region'),\n",
       " (591, 'Macau', 'Macau Special Administrative Region'),\n",
       " (592, 'French Guiana', 'Overseas Region of Guiana'),\n",
       " (593, 'Guadeloupe', 'Overseas Region of Guadeloupe'),\n",
       " (594, 'Martinique', 'Overseas Region of Martinique'),\n",
       " (595, 'Reunion', 'Overseas Region of Reunion')]"
      ]
     },
     "execution_count": 73,
     "metadata": {},
     "output_type": "execute_result"
    }
   ],
   "source": [
    "cur.execute('SELECT * FROM country_list')\n",
    "cur.fetchall()"
   ]
  },
  {
   "cell_type": "code",
   "execution_count": 74,
   "metadata": {
    "collapsed": false
   },
   "outputs": [
    {
     "ename": "IntegrityError",
     "evalue": "UNIQUE constraint failed: country_list.id",
     "output_type": "error",
     "traceback": [
      "\u001b[1;31m---------------------------------------------------------------------------\u001b[0m",
      "\u001b[1;31mIntegrityError\u001b[0m                            Traceback (most recent call last)",
      "\u001b[1;32m<ipython-input-74-a2af9509e36d>\u001b[0m in \u001b[0;36m<module>\u001b[1;34m()\u001b[0m\n\u001b[0;32m      1\u001b[0m \u001b[0msql\u001b[0m\u001b[1;33m=\u001b[0m\u001b[1;34m'''INSERT INTO country_list (id,country_name,iso3) VALUES (595, 'Reunion', 'Overseas Region of Reunion')'''\u001b[0m\u001b[1;33m\u001b[0m\u001b[0m\n\u001b[1;32m----> 2\u001b[1;33m \u001b[0mcur\u001b[0m\u001b[1;33m.\u001b[0m\u001b[0mexecute\u001b[0m\u001b[1;33m(\u001b[0m\u001b[0msql\u001b[0m\u001b[1;33m)\u001b[0m\u001b[1;33m\u001b[0m\u001b[0m\n\u001b[0m",
      "\u001b[1;31mIntegrityError\u001b[0m: UNIQUE constraint failed: country_list.id"
     ]
    }
   ],
   "source": [
    "sql='''INSERT INTO country_list (id,country_name,iso3) VALUES (595, 'Reunion', 'Overseas Region of Reunion')'''\n",
    "cur.execute(sql)"
   ]
  },
  {
   "cell_type": "code",
   "execution_count": null,
   "metadata": {
    "collapsed": true
   },
   "outputs": [],
   "source": []
  },
  {
   "cell_type": "code",
   "execution_count": null,
   "metadata": {
    "collapsed": true
   },
   "outputs": [],
   "source": []
  },
  {
   "cell_type": "code",
   "execution_count": null,
   "metadata": {
    "collapsed": true
   },
   "outputs": [],
   "source": []
  },
  {
   "cell_type": "code",
   "execution_count": null,
   "metadata": {
    "collapsed": true
   },
   "outputs": [],
   "source": []
  },
  {
   "cell_type": "code",
   "execution_count": null,
   "metadata": {
    "collapsed": true
   },
   "outputs": [],
   "source": []
  },
  {
   "cell_type": "code",
   "execution_count": null,
   "metadata": {
    "collapsed": true
   },
   "outputs": [],
   "source": []
  },
  {
   "cell_type": "code",
   "execution_count": null,
   "metadata": {
    "collapsed": true
   },
   "outputs": [],
   "source": []
  },
  {
   "cell_type": "code",
   "execution_count": null,
   "metadata": {
    "collapsed": true
   },
   "outputs": [],
   "source": []
  },
  {
   "cell_type": "code",
   "execution_count": null,
   "metadata": {
    "collapsed": true
   },
   "outputs": [],
   "source": []
  },
  {
   "cell_type": "code",
   "execution_count": null,
   "metadata": {
    "collapsed": true
   },
   "outputs": [],
   "source": []
  },
  {
   "cell_type": "code",
   "execution_count": null,
   "metadata": {
    "collapsed": true
   },
   "outputs": [],
   "source": []
  },
  {
   "cell_type": "code",
   "execution_count": null,
   "metadata": {
    "collapsed": true
   },
   "outputs": [],
   "source": []
  }
 ],
 "metadata": {
  "kernelspec": {
   "display_name": "Python 3",
   "language": "python",
   "name": "python3"
  },
  "language_info": {
   "codemirror_mode": {
    "name": "ipython",
    "version": 3
   },
   "file_extension": ".py",
   "mimetype": "text/x-python",
   "name": "python",
   "nbconvert_exporter": "python",
   "pygments_lexer": "ipython3",
   "version": "3.5.1"
  }
 },
 "nbformat": 4,
 "nbformat_minor": 0
}
